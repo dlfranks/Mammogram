{
 "cells": [
  {
   "cell_type": "code",
   "execution_count": 27,
   "id": "1539ed5a",
   "metadata": {},
   "outputs": [
    {
     "name": "stdout",
     "output_type": "stream",
     "text": [
      "       Weight    Name  Age\n",
      "Row_1    45.0     Sam   14\n",
      "Row_2     NaN  Andrea   25\n",
      "Row_3    56.0    Alex   55\n",
      "Row_4    15.0   Robin    8\n",
      "Row_5    71.0     Kia   21\n",
      "       Weight  Name   Age\n",
      "Row_1    True  True  True\n",
      "Row_2   False  True  True\n",
      "Row_3    True  True  True\n",
      "Row_4    True  True  True\n",
      "Row_5    True  True  True\n",
      "Weight    False\n",
      "Name       True\n",
      "Age        True\n",
      "dtype: bool\n",
      "Row_1     True\n",
      "Row_2    False\n",
      "Row_3     True\n",
      "Row_4     True\n",
      "Row_5     True\n",
      "dtype: bool\n"
     ]
    }
   ],
   "source": [
    "# importing pandas as pd\n",
    "import pandas as pd\n",
    "import numpy as np\n",
    " \n",
    "# Creating the DataFrame\n",
    "df = pd.DataFrame({'Weight': [45, np.nan, 56, 15, 71],\n",
    "                   'Name': ['Sam', 'Andrea', 'Alex', 'Robin', 'Kia'],\n",
    "                   'Age': [14, 25, 55, 8, 21]})\n",
    " \n",
    "# Create the index\n",
    "index_ = ['Row_1', 'Row_2', 'Row_3', 'Row_4', 'Row_5']\n",
    " \n",
    "# Set the index\n",
    "df.index = index_\n",
    " \n",
    "# Print the DataFrame\n",
    "#print(\"Original DataFrame:\")\n",
    "print(df)\n",
    " \n",
    "# Corrected selection using loc for a specific cell\n",
    "\n",
    " \n",
    "# Print the result\n",
    "#print(\"\\nSelected Value at Row_2, Column 'Name':\")\n",
    "#print(result)\n",
    "weights = df['Weight'].isnull()\n",
    "#print(weights)\n",
    "#print(type(weights))\n",
    "#print(df.loc[weights], 'Weight')\n",
    "#print(df.loc[weights])\n",
    "print(df.notna())\n",
    "print(df.notna().all())\n",
    "print(df.notna().all(axis=1))\n"
   ]
  },
  {
   "cell_type": "code",
   "execution_count": 29,
   "id": "616ca110",
   "metadata": {},
   "outputs": [
    {
     "name": "stdout",
     "output_type": "stream",
     "text": [
      "A    False\n",
      "B    False\n",
      "dtype: bool\n"
     ]
    }
   ],
   "source": [
    "# Creating the DataFrame\n",
    "df2 = pd.DataFrame({'A': [1, np.nan, 3], 'B': [4, 5, np.nan]})\n",
    "\n",
    "# Check for non-null values along rows (axis=1)\n",
    "result2 = df2.notna().all(axis=0)\n",
    "\n",
    "print(result2)"
   ]
  }
 ],
 "metadata": {
  "kernelspec": {
   "display_name": "Python 3 (ipykernel)",
   "language": "python",
   "name": "python3"
  },
  "language_info": {
   "codemirror_mode": {
    "name": "ipython",
    "version": 3
   },
   "file_extension": ".py",
   "mimetype": "text/x-python",
   "name": "python",
   "nbconvert_exporter": "python",
   "pygments_lexer": "ipython3",
   "version": "3.11.5"
  }
 },
 "nbformat": 4,
 "nbformat_minor": 5
}
